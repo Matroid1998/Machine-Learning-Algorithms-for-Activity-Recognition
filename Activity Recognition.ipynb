{
 "cells": [
  {
   "cell_type": "code",
   "execution_count": 65,
   "metadata": {
    "id": "jvIzkx1J5vi9",
    "pycharm": {
     "name": "#%%\n"
    }
   },
   "outputs": [],
   "source": [
    "import numpy as np\n",
    "import pandas as pd\n",
    "from sklearn import preprocessing\n",
    "from sklearn.svm import SVC\n",
    "from sklearn.svm import LinearSVC\n",
    "from sklearn.model_selection import RepeatedKFold\n",
    "from sklearn.metrics import precision_score\n",
    "from sklearn.metrics import recall_score\n",
    "from sklearn.metrics import f1_score\n",
    "from sklearn.metrics import accuracy_score\n",
    "from sklearn.model_selection import GridSearchCV\n",
    "from sklearn.tree import DecisionTreeClassifier\n",
    "from sklearn.ensemble import RandomForestClassifier\n",
    "from sklearn.metrics import classification_report, ConfusionMatrixDisplay\n",
    "from sklearn.model_selection import cross_validate\n",
    "import matplotlib.pyplot as plt\n",
    "from xgboost import XGBClassifier"
   ]
  },
  {
   "cell_type": "code",
   "execution_count": 26,
   "metadata": {
    "id": "CsdrVa5E4fXc",
    "pycharm": {
     "name": "#%%\n"
    }
   },
   "outputs": [],
   "source": [
    "data = np.loadtxt(\"data.txt\", delimiter=',', skiprows=0)\n"
   ]
  },
  {
   "cell_type": "code",
   "execution_count": 27,
   "metadata": {
    "colab": {
     "base_uri": "https://localhost:8080/"
    },
    "id": "g_bU2-m051_b",
    "outputId": "decbcb20-42f1-4ff2-f530-71506e45971b",
    "pycharm": {
     "name": "#%%\n"
    }
   },
   "outputs": [
    {
     "output_type": "execute_result",
     "data": {
      "text/plain": [
       "(4480, 535)"
      ]
     },
     "metadata": {},
     "execution_count": 27
    }
   ],
   "source": [
    "data.shape"
   ]
  },
  {
   "cell_type": "code",
   "execution_count": 28,
   "metadata": {
    "id": "27enJH2B8F3w",
    "pycharm": {
     "name": "#%%\n"
    }
   },
   "outputs": [],
   "source": [
    "df = pd.DataFrame(data=data[:,1:])"
   ]
  },
  {
   "cell_type": "code",
   "execution_count": 29,
   "metadata": {
    "colab": {
     "base_uri": "https://localhost:8080/",
     "height": 487
    },
    "id": "Xz0VF1mh8kHZ",
    "outputId": "98a5f58c-1abd-4384-931e-7c6cb366b277",
    "pycharm": {
     "name": "#%%\n"
    }
   },
   "outputs": [
    {
     "output_type": "execute_result",
     "data": {
      "text/plain": [
       "           0         1         2        3         4        5        6    \\\n",
       "0    -0.004125  0.254095  0.001426 -0.01037 -0.538509  5.95534  1.04063   \n",
       "1     0.031029  0.193761  0.012918 -0.00237  0.781415  5.18794  0.98963   \n",
       "2     0.015678  0.182336 -0.003028 -0.02337  0.881194  5.66530  0.87563   \n",
       "3     0.014525  0.176636 -0.006161 -0.02737  1.024900  6.10968  0.91063   \n",
       "4     0.010349  0.179248 -0.008526 -0.02737  0.935697  5.83902  0.91063   \n",
       "...        ...       ...       ...      ...       ...      ...      ...   \n",
       "4475 -0.015981  0.254373 -0.013341 -0.00101 -0.165105  5.15843  1.03999   \n",
       "4476 -0.008857  0.238946 -0.010767 -0.00901 -0.034522  5.43013  1.01499   \n",
       "4477  0.024672  0.213325  0.014417  0.01099  0.613841  4.55481  1.01499   \n",
       "4478  0.025063  0.212210  0.015656  0.01299  0.593249  4.58374  0.95799   \n",
       "4479  0.002555  0.232580 -0.004537 -0.00501  0.397291  4.82234  1.32099   \n",
       "\n",
       "          7        8        9    ...      524           525       526  \\\n",
       "0    -1.37437 -0.10937  0.10763  ...  1015.36  7.170320e+08  0.027384   \n",
       "1    -0.71937 -0.08737  0.11163  ...  1015.78  7.058540e+08  0.016947   \n",
       "2    -0.71937 -0.08037  0.08863  ...  1016.16  6.270180e+08  0.008129   \n",
       "3    -0.71937 -0.08037  0.07163  ...  1015.61  5.597480e+08  0.007377   \n",
       "4    -0.75637 -0.08337  0.07163  ...  1015.67  4.844730e+08  0.011448   \n",
       "...       ...      ...      ...  ...      ...           ...       ...   \n",
       "4475 -1.19301 -0.15801  0.12299  ...  1014.61  3.237410e+09  0.132094   \n",
       "4476 -1.10201 -0.14501  0.11899  ...  1016.07  3.156070e+09  0.133406   \n",
       "4477 -0.57301 -0.10401  0.13699  ...  1016.06  3.052520e+09  0.138525   \n",
       "4478 -0.64101 -0.10001  0.13299  ...  1015.80  3.322710e+09  0.076570   \n",
       "4479 -0.98601 -0.13101  0.11899  ...  1015.77  3.412910e+09  0.006876   \n",
       "\n",
       "          527      528       529      530        531        532  533  \n",
       "0     2.53425  17.3882   8.05589  1.80247  1413310.0  3028080.0  1.0  \n",
       "1     2.51513  16.5914   7.81769  1.52349  1390180.0  3016420.0  1.0  \n",
       "2     2.25959  15.2312   7.11684  1.25860  1234110.0  3004430.0  1.0  \n",
       "3     2.13924  14.4663   6.70236  1.26643  1102720.0  2992170.0  1.0  \n",
       "4     1.93595  12.5493   6.08647  1.22387   954322.0  2979610.0  1.0  \n",
       "...       ...      ...       ...      ...        ...        ...  ...  \n",
       "4475  9.48535  73.9901  31.82590  5.16972  6390410.0   398810.0  4.0  \n",
       "4476  8.73701  68.4041  29.83820  5.06743  6214830.0   412407.0  4.0  \n",
       "4477  8.90410  68.5051  30.45150  5.88492  6011070.0   425422.0  4.0  \n",
       "4478  8.97766  72.4431  30.38700  4.43563  6544010.0   439695.0  4.0  \n",
       "4479  9.20105  75.5608  30.77280  2.52386  6721730.0   454341.0  4.0  \n",
       "\n",
       "[4480 rows x 534 columns]"
      ],
      "text/html": [
       "\n",
       "  <div id=\"df-69ef46b9-6973-4405-8c60-86e9b0848ff1\">\n",
       "    <div class=\"colab-df-container\">\n",
       "      <div>\n",
       "<style scoped>\n",
       "    .dataframe tbody tr th:only-of-type {\n",
       "        vertical-align: middle;\n",
       "    }\n",
       "\n",
       "    .dataframe tbody tr th {\n",
       "        vertical-align: top;\n",
       "    }\n",
       "\n",
       "    .dataframe thead th {\n",
       "        text-align: right;\n",
       "    }\n",
       "</style>\n",
       "<table border=\"1\" class=\"dataframe\">\n",
       "  <thead>\n",
       "    <tr style=\"text-align: right;\">\n",
       "      <th></th>\n",
       "      <th>0</th>\n",
       "      <th>1</th>\n",
       "      <th>2</th>\n",
       "      <th>3</th>\n",
       "      <th>4</th>\n",
       "      <th>5</th>\n",
       "      <th>6</th>\n",
       "      <th>7</th>\n",
       "      <th>8</th>\n",
       "      <th>9</th>\n",
       "      <th>...</th>\n",
       "      <th>524</th>\n",
       "      <th>525</th>\n",
       "      <th>526</th>\n",
       "      <th>527</th>\n",
       "      <th>528</th>\n",
       "      <th>529</th>\n",
       "      <th>530</th>\n",
       "      <th>531</th>\n",
       "      <th>532</th>\n",
       "      <th>533</th>\n",
       "    </tr>\n",
       "  </thead>\n",
       "  <tbody>\n",
       "    <tr>\n",
       "      <th>0</th>\n",
       "      <td>-0.004125</td>\n",
       "      <td>0.254095</td>\n",
       "      <td>0.001426</td>\n",
       "      <td>-0.01037</td>\n",
       "      <td>-0.538509</td>\n",
       "      <td>5.95534</td>\n",
       "      <td>1.04063</td>\n",
       "      <td>-1.37437</td>\n",
       "      <td>-0.10937</td>\n",
       "      <td>0.10763</td>\n",
       "      <td>...</td>\n",
       "      <td>1015.36</td>\n",
       "      <td>7.170320e+08</td>\n",
       "      <td>0.027384</td>\n",
       "      <td>2.53425</td>\n",
       "      <td>17.3882</td>\n",
       "      <td>8.05589</td>\n",
       "      <td>1.80247</td>\n",
       "      <td>1413310.0</td>\n",
       "      <td>3028080.0</td>\n",
       "      <td>1.0</td>\n",
       "    </tr>\n",
       "    <tr>\n",
       "      <th>1</th>\n",
       "      <td>0.031029</td>\n",
       "      <td>0.193761</td>\n",
       "      <td>0.012918</td>\n",
       "      <td>-0.00237</td>\n",
       "      <td>0.781415</td>\n",
       "      <td>5.18794</td>\n",
       "      <td>0.98963</td>\n",
       "      <td>-0.71937</td>\n",
       "      <td>-0.08737</td>\n",
       "      <td>0.11163</td>\n",
       "      <td>...</td>\n",
       "      <td>1015.78</td>\n",
       "      <td>7.058540e+08</td>\n",
       "      <td>0.016947</td>\n",
       "      <td>2.51513</td>\n",
       "      <td>16.5914</td>\n",
       "      <td>7.81769</td>\n",
       "      <td>1.52349</td>\n",
       "      <td>1390180.0</td>\n",
       "      <td>3016420.0</td>\n",
       "      <td>1.0</td>\n",
       "    </tr>\n",
       "    <tr>\n",
       "      <th>2</th>\n",
       "      <td>0.015678</td>\n",
       "      <td>0.182336</td>\n",
       "      <td>-0.003028</td>\n",
       "      <td>-0.02337</td>\n",
       "      <td>0.881194</td>\n",
       "      <td>5.66530</td>\n",
       "      <td>0.87563</td>\n",
       "      <td>-0.71937</td>\n",
       "      <td>-0.08037</td>\n",
       "      <td>0.08863</td>\n",
       "      <td>...</td>\n",
       "      <td>1016.16</td>\n",
       "      <td>6.270180e+08</td>\n",
       "      <td>0.008129</td>\n",
       "      <td>2.25959</td>\n",
       "      <td>15.2312</td>\n",
       "      <td>7.11684</td>\n",
       "      <td>1.25860</td>\n",
       "      <td>1234110.0</td>\n",
       "      <td>3004430.0</td>\n",
       "      <td>1.0</td>\n",
       "    </tr>\n",
       "    <tr>\n",
       "      <th>3</th>\n",
       "      <td>0.014525</td>\n",
       "      <td>0.176636</td>\n",
       "      <td>-0.006161</td>\n",
       "      <td>-0.02737</td>\n",
       "      <td>1.024900</td>\n",
       "      <td>6.10968</td>\n",
       "      <td>0.91063</td>\n",
       "      <td>-0.71937</td>\n",
       "      <td>-0.08037</td>\n",
       "      <td>0.07163</td>\n",
       "      <td>...</td>\n",
       "      <td>1015.61</td>\n",
       "      <td>5.597480e+08</td>\n",
       "      <td>0.007377</td>\n",
       "      <td>2.13924</td>\n",
       "      <td>14.4663</td>\n",
       "      <td>6.70236</td>\n",
       "      <td>1.26643</td>\n",
       "      <td>1102720.0</td>\n",
       "      <td>2992170.0</td>\n",
       "      <td>1.0</td>\n",
       "    </tr>\n",
       "    <tr>\n",
       "      <th>4</th>\n",
       "      <td>0.010349</td>\n",
       "      <td>0.179248</td>\n",
       "      <td>-0.008526</td>\n",
       "      <td>-0.02737</td>\n",
       "      <td>0.935697</td>\n",
       "      <td>5.83902</td>\n",
       "      <td>0.91063</td>\n",
       "      <td>-0.75637</td>\n",
       "      <td>-0.08337</td>\n",
       "      <td>0.07163</td>\n",
       "      <td>...</td>\n",
       "      <td>1015.67</td>\n",
       "      <td>4.844730e+08</td>\n",
       "      <td>0.011448</td>\n",
       "      <td>1.93595</td>\n",
       "      <td>12.5493</td>\n",
       "      <td>6.08647</td>\n",
       "      <td>1.22387</td>\n",
       "      <td>954322.0</td>\n",
       "      <td>2979610.0</td>\n",
       "      <td>1.0</td>\n",
       "    </tr>\n",
       "    <tr>\n",
       "      <th>...</th>\n",
       "      <td>...</td>\n",
       "      <td>...</td>\n",
       "      <td>...</td>\n",
       "      <td>...</td>\n",
       "      <td>...</td>\n",
       "      <td>...</td>\n",
       "      <td>...</td>\n",
       "      <td>...</td>\n",
       "      <td>...</td>\n",
       "      <td>...</td>\n",
       "      <td>...</td>\n",
       "      <td>...</td>\n",
       "      <td>...</td>\n",
       "      <td>...</td>\n",
       "      <td>...</td>\n",
       "      <td>...</td>\n",
       "      <td>...</td>\n",
       "      <td>...</td>\n",
       "      <td>...</td>\n",
       "      <td>...</td>\n",
       "      <td>...</td>\n",
       "    </tr>\n",
       "    <tr>\n",
       "      <th>4475</th>\n",
       "      <td>-0.015981</td>\n",
       "      <td>0.254373</td>\n",
       "      <td>-0.013341</td>\n",
       "      <td>-0.00101</td>\n",
       "      <td>-0.165105</td>\n",
       "      <td>5.15843</td>\n",
       "      <td>1.03999</td>\n",
       "      <td>-1.19301</td>\n",
       "      <td>-0.15801</td>\n",
       "      <td>0.12299</td>\n",
       "      <td>...</td>\n",
       "      <td>1014.61</td>\n",
       "      <td>3.237410e+09</td>\n",
       "      <td>0.132094</td>\n",
       "      <td>9.48535</td>\n",
       "      <td>73.9901</td>\n",
       "      <td>31.82590</td>\n",
       "      <td>5.16972</td>\n",
       "      <td>6390410.0</td>\n",
       "      <td>398810.0</td>\n",
       "      <td>4.0</td>\n",
       "    </tr>\n",
       "    <tr>\n",
       "      <th>4476</th>\n",
       "      <td>-0.008857</td>\n",
       "      <td>0.238946</td>\n",
       "      <td>-0.010767</td>\n",
       "      <td>-0.00901</td>\n",
       "      <td>-0.034522</td>\n",
       "      <td>5.43013</td>\n",
       "      <td>1.01499</td>\n",
       "      <td>-1.10201</td>\n",
       "      <td>-0.14501</td>\n",
       "      <td>0.11899</td>\n",
       "      <td>...</td>\n",
       "      <td>1016.07</td>\n",
       "      <td>3.156070e+09</td>\n",
       "      <td>0.133406</td>\n",
       "      <td>8.73701</td>\n",
       "      <td>68.4041</td>\n",
       "      <td>29.83820</td>\n",
       "      <td>5.06743</td>\n",
       "      <td>6214830.0</td>\n",
       "      <td>412407.0</td>\n",
       "      <td>4.0</td>\n",
       "    </tr>\n",
       "    <tr>\n",
       "      <th>4477</th>\n",
       "      <td>0.024672</td>\n",
       "      <td>0.213325</td>\n",
       "      <td>0.014417</td>\n",
       "      <td>0.01099</td>\n",
       "      <td>0.613841</td>\n",
       "      <td>4.55481</td>\n",
       "      <td>1.01499</td>\n",
       "      <td>-0.57301</td>\n",
       "      <td>-0.10401</td>\n",
       "      <td>0.13699</td>\n",
       "      <td>...</td>\n",
       "      <td>1016.06</td>\n",
       "      <td>3.052520e+09</td>\n",
       "      <td>0.138525</td>\n",
       "      <td>8.90410</td>\n",
       "      <td>68.5051</td>\n",
       "      <td>30.45150</td>\n",
       "      <td>5.88492</td>\n",
       "      <td>6011070.0</td>\n",
       "      <td>425422.0</td>\n",
       "      <td>4.0</td>\n",
       "    </tr>\n",
       "    <tr>\n",
       "      <th>4478</th>\n",
       "      <td>0.025063</td>\n",
       "      <td>0.212210</td>\n",
       "      <td>0.015656</td>\n",
       "      <td>0.01299</td>\n",
       "      <td>0.593249</td>\n",
       "      <td>4.58374</td>\n",
       "      <td>0.95799</td>\n",
       "      <td>-0.64101</td>\n",
       "      <td>-0.10001</td>\n",
       "      <td>0.13299</td>\n",
       "      <td>...</td>\n",
       "      <td>1015.80</td>\n",
       "      <td>3.322710e+09</td>\n",
       "      <td>0.076570</td>\n",
       "      <td>8.97766</td>\n",
       "      <td>72.4431</td>\n",
       "      <td>30.38700</td>\n",
       "      <td>4.43563</td>\n",
       "      <td>6544010.0</td>\n",
       "      <td>439695.0</td>\n",
       "      <td>4.0</td>\n",
       "    </tr>\n",
       "    <tr>\n",
       "      <th>4479</th>\n",
       "      <td>0.002555</td>\n",
       "      <td>0.232580</td>\n",
       "      <td>-0.004537</td>\n",
       "      <td>-0.00501</td>\n",
       "      <td>0.397291</td>\n",
       "      <td>4.82234</td>\n",
       "      <td>1.32099</td>\n",
       "      <td>-0.98601</td>\n",
       "      <td>-0.13101</td>\n",
       "      <td>0.11899</td>\n",
       "      <td>...</td>\n",
       "      <td>1015.77</td>\n",
       "      <td>3.412910e+09</td>\n",
       "      <td>0.006876</td>\n",
       "      <td>9.20105</td>\n",
       "      <td>75.5608</td>\n",
       "      <td>30.77280</td>\n",
       "      <td>2.52386</td>\n",
       "      <td>6721730.0</td>\n",
       "      <td>454341.0</td>\n",
       "      <td>4.0</td>\n",
       "    </tr>\n",
       "  </tbody>\n",
       "</table>\n",
       "<p>4480 rows × 534 columns</p>\n",
       "</div>\n",
       "      <button class=\"colab-df-convert\" onclick=\"convertToInteractive('df-69ef46b9-6973-4405-8c60-86e9b0848ff1')\"\n",
       "              title=\"Convert this dataframe to an interactive table.\"\n",
       "              style=\"display:none;\">\n",
       "        \n",
       "  <svg xmlns=\"http://www.w3.org/2000/svg\" height=\"24px\"viewBox=\"0 0 24 24\"\n",
       "       width=\"24px\">\n",
       "    <path d=\"M0 0h24v24H0V0z\" fill=\"none\"/>\n",
       "    <path d=\"M18.56 5.44l.94 2.06.94-2.06 2.06-.94-2.06-.94-.94-2.06-.94 2.06-2.06.94zm-11 1L8.5 8.5l.94-2.06 2.06-.94-2.06-.94L8.5 2.5l-.94 2.06-2.06.94zm10 10l.94 2.06.94-2.06 2.06-.94-2.06-.94-.94-2.06-.94 2.06-2.06.94z\"/><path d=\"M17.41 7.96l-1.37-1.37c-.4-.4-.92-.59-1.43-.59-.52 0-1.04.2-1.43.59L10.3 9.45l-7.72 7.72c-.78.78-.78 2.05 0 2.83L4 21.41c.39.39.9.59 1.41.59.51 0 1.02-.2 1.41-.59l7.78-7.78 2.81-2.81c.8-.78.8-2.07 0-2.86zM5.41 20L4 18.59l7.72-7.72 1.47 1.35L5.41 20z\"/>\n",
       "  </svg>\n",
       "      </button>\n",
       "      \n",
       "  <style>\n",
       "    .colab-df-container {\n",
       "      display:flex;\n",
       "      flex-wrap:wrap;\n",
       "      gap: 12px;\n",
       "    }\n",
       "\n",
       "    .colab-df-convert {\n",
       "      background-color: #E8F0FE;\n",
       "      border: none;\n",
       "      border-radius: 50%;\n",
       "      cursor: pointer;\n",
       "      display: none;\n",
       "      fill: #1967D2;\n",
       "      height: 32px;\n",
       "      padding: 0 0 0 0;\n",
       "      width: 32px;\n",
       "    }\n",
       "\n",
       "    .colab-df-convert:hover {\n",
       "      background-color: #E2EBFA;\n",
       "      box-shadow: 0px 1px 2px rgba(60, 64, 67, 0.3), 0px 1px 3px 1px rgba(60, 64, 67, 0.15);\n",
       "      fill: #174EA6;\n",
       "    }\n",
       "\n",
       "    [theme=dark] .colab-df-convert {\n",
       "      background-color: #3B4455;\n",
       "      fill: #D2E3FC;\n",
       "    }\n",
       "\n",
       "    [theme=dark] .colab-df-convert:hover {\n",
       "      background-color: #434B5C;\n",
       "      box-shadow: 0px 1px 3px 1px rgba(0, 0, 0, 0.15);\n",
       "      filter: drop-shadow(0px 1px 2px rgba(0, 0, 0, 0.3));\n",
       "      fill: #FFFFFF;\n",
       "    }\n",
       "  </style>\n",
       "\n",
       "      <script>\n",
       "        const buttonEl =\n",
       "          document.querySelector('#df-69ef46b9-6973-4405-8c60-86e9b0848ff1 button.colab-df-convert');\n",
       "        buttonEl.style.display =\n",
       "          google.colab.kernel.accessAllowed ? 'block' : 'none';\n",
       "\n",
       "        async function convertToInteractive(key) {\n",
       "          const element = document.querySelector('#df-69ef46b9-6973-4405-8c60-86e9b0848ff1');\n",
       "          const dataTable =\n",
       "            await google.colab.kernel.invokeFunction('convertToInteractive',\n",
       "                                                     [key], {});\n",
       "          if (!dataTable) return;\n",
       "\n",
       "          const docLinkHtml = 'Like what you see? Visit the ' +\n",
       "            '<a target=\"_blank\" href=https://colab.research.google.com/notebooks/data_table.ipynb>data table notebook</a>'\n",
       "            + ' to learn more about interactive tables.';\n",
       "          element.innerHTML = '';\n",
       "          dataTable['output_type'] = 'display_data';\n",
       "          await google.colab.output.renderOutput(dataTable, element);\n",
       "          const docLink = document.createElement('div');\n",
       "          docLink.innerHTML = docLinkHtml;\n",
       "          element.appendChild(docLink);\n",
       "        }\n",
       "      </script>\n",
       "    </div>\n",
       "  </div>\n",
       "  "
      ]
     },
     "metadata": {},
     "execution_count": 29
    }
   ],
   "source": [
    "df"
   ]
  },
  {
   "cell_type": "code",
   "execution_count": 30,
   "metadata": {
    "id": "sPp2JQgo_lon",
    "pycharm": {
     "name": "#%%\n"
    }
   },
   "outputs": [],
   "source": [
    "data = data[:,1:]\n",
    "np.random.shuffle(data)"
   ]
  },
  {
   "cell_type": "code",
   "execution_count": 31,
   "metadata": {
    "colab": {
     "base_uri": "https://localhost:8080/"
    },
    "id": "HkK_wxAH_v0C",
    "outputId": "58802094-b6d3-49de-9f84-7596805d5944",
    "pycharm": {
     "name": "#%%\n"
    }
   },
   "outputs": [
    {
     "output_type": "execute_result",
     "data": {
      "text/plain": [
       "(4480, 534)"
      ]
     },
     "metadata": {},
     "execution_count": 31
    }
   ],
   "source": [
    "data.shape"
   ]
  },
  {
   "cell_type": "code",
   "execution_count": 32,
   "metadata": {
    "id": "NYBgfTzwBNr3",
    "pycharm": {
     "name": "#%%\n"
    }
   },
   "outputs": [],
   "source": [
    "train = data[0:4032,:]\n",
    "test = data[4032:]\n",
    "X = train[:,:-1]\n",
    "y = train[:,-1]"
   ]
  },
  {
   "cell_type": "code",
   "execution_count": 33,
   "metadata": {
    "id": "k9i2MmyyDnDD",
    "pycharm": {
     "name": "#%%\n"
    }
   },
   "outputs": [],
   "source": [
    "std_scale = preprocessing.StandardScaler().fit(X)\n",
    "X_std = std_scale.transform(X)\n"
   ]
  },
  {
   "cell_type": "code",
   "execution_count": 34,
   "metadata": {
    "colab": {
     "base_uri": "https://localhost:8080/"
    },
    "id": "pIKdBX4LOH1z",
    "outputId": "f4844421-8ffc-4fc9-b3f9-32eaecb939a3",
    "pycharm": {
     "name": "#%%\n"
    }
   },
   "outputs": [
    {
     "output_type": "execute_result",
     "data": {
      "text/plain": [
       "(4032, 533)"
      ]
     },
     "metadata": {},
     "execution_count": 34
    }
   ],
   "source": [
    "X_std.shape"
   ]
  },
  {
   "cell_type": "code",
   "source": [
    "y.shape"
   ],
   "metadata": {
    "colab": {
     "base_uri": "https://localhost:8080/"
    },
    "id": "g0LYr6_fRvsN",
    "outputId": "456b11ec-b684-47de-9d08-3fd2e8e3cea4",
    "pycharm": {
     "name": "#%%\n"
    }
   },
   "execution_count": 35,
   "outputs": [
    {
     "output_type": "execute_result",
     "data": {
      "text/plain": [
       "(4032,)"
      ]
     },
     "metadata": {},
     "execution_count": 35
    }
   ]
  },
  {
   "cell_type": "code",
   "execution_count": 49,
   "metadata": {
    "id": "JPEQs5NqWv4h",
    "pycharm": {
     "name": "#%%\n"
    }
   },
   "outputs": [],
   "source": [
    "svm = SVC(kernel = 'poly')\n",
    "params_grid = [{'degree':[2,3,5,7,10],'C':[10**-1,10**-2,10**1,10**2,10**3,10**4,10**5]}]"
   ]
  },
  {
   "cell_type": "code",
   "execution_count": 50,
   "metadata": {
    "id": "o8Xd__8kjTFU",
    "pycharm": {
     "name": "#%%\n"
    }
   },
   "outputs": [],
   "source": [
    "svm_GS=GridSearchCV(svm,params_grid,cv =5,scoring ='accuracy',return_train_score = True\n",
    "                             ,n_jobs=-1)"
   ]
  },
  {
   "cell_type": "code",
   "execution_count": 51,
   "metadata": {
    "id": "v_1Jib1wrWB2",
    "colab": {
     "base_uri": "https://localhost:8080/"
    },
    "outputId": "23a2c8c0-786e-4ab8-9408-e6e7d5538217",
    "pycharm": {
     "name": "#%%\n"
    }
   },
   "outputs": [
    {
     "output_type": "execute_result",
     "data": {
      "text/plain": [
       "GridSearchCV(cv=5, estimator=SVC(kernel='poly'), n_jobs=-1,\n",
       "             param_grid=[{'C': [0.1, 0.01, 10, 100, 1000, 10000, 100000],\n",
       "                          'degree': [2, 3, 5, 7, 10]}],\n",
       "             return_train_score=True, scoring='accuracy')"
      ]
     },
     "metadata": {},
     "execution_count": 51
    }
   ],
   "source": [
    "svm_GS.fit(X_std,y)"
   ]
  },
  {
   "cell_type": "code",
   "source": [
    "svm_GS.best_params_"
   ],
   "metadata": {
    "colab": {
     "base_uri": "https://localhost:8080/"
    },
    "id": "ONN04VtQhpMn",
    "outputId": "77ee917d-e8a0-4eae-cc9f-e16786df9fd9",
    "pycharm": {
     "name": "#%%\n"
    }
   },
   "execution_count": 52,
   "outputs": [
    {
     "output_type": "execute_result",
     "data": {
      "text/plain": [
       "{'C': 100000, 'degree': 3}"
      ]
     },
     "metadata": {},
     "execution_count": 52
    }
   ]
  },
  {
   "cell_type": "code",
   "execution_count": null,
   "metadata": {
    "id": "YcgndALGjYnV",
    "pycharm": {
     "name": "#%%\n"
    }
   },
   "outputs": [],
   "source": [
    "DTC = DecisionTreeClassifier(random_state=1,criterion='entropy')\n",
    "params_grid=[{'max_features':['auto','log2',50,100,200,300,400,500,None],'min_samples_leaf':[1,50,100,300,500,700,1000],\n",
    "              'max_depth':[3,5,10,15,20,30,40,None]}]"
   ]
  },
  {
   "cell_type": "code",
   "execution_count": null,
   "metadata": {
    "id": "EHizkJ5hqzY-",
    "pycharm": {
     "name": "#%%\n"
    }
   },
   "outputs": [],
   "source": [
    "DTC_GS =GridSearchCV (DTC,params_grid,cv = cv,scoring = 'accuracy',return_train_score = True\n",
    "                             ,n_jobs=-1)"
   ]
  },
  {
   "cell_type": "code",
   "execution_count": null,
   "metadata": {
    "colab": {
     "base_uri": "https://localhost:8080/"
    },
    "id": "lMi4RXEEq5V8",
    "outputId": "bafbf7b2-7737-41ed-86c8-5fb90da66fc0",
    "pycharm": {
     "name": "#%%\n"
    }
   },
   "outputs": [
    {
     "data": {
      "text/plain": [
       "GridSearchCV(cv=RepeatedKFold(n_repeats=3, n_splits=5, random_state=1),\n",
       "             estimator=DecisionTreeClassifier(criterion='entropy',\n",
       "                                              random_state=1),\n",
       "             n_jobs=-1,\n",
       "             param_grid=[{'max_depth': [3, 5, 10, 15, 20, 30, 40, None],\n",
       "                          'max_features': ['auto', 'log2', 50, 100, 200, 300,\n",
       "                                           400, 500, None],\n",
       "                          'min_samples_leaf': [1, 50, 100, 300, 500, 700,\n",
       "                                               1000]}],\n",
       "             return_train_score=True, scoring='accuracy')"
      ]
     },
     "execution_count": 25,
     "metadata": {},
     "output_type": "execute_result"
    }
   ],
   "source": [
    "DTC_GS.fit(X,y)"
   ]
  },
  {
   "cell_type": "code",
   "execution_count": null,
   "metadata": {
    "colab": {
     "base_uri": "https://localhost:8080/"
    },
    "id": "YOPIfM9WUqnw",
    "outputId": "a9869e37-fc50-4524-8a45-f44b85bb4062",
    "pycharm": {
     "name": "#%%\n"
    }
   },
   "outputs": [
    {
     "data": {
      "text/plain": [
       "{'max_depth': 30, 'max_features': 100, 'min_samples_leaf': 1}"
      ]
     },
     "execution_count": 26,
     "metadata": {},
     "output_type": "execute_result"
    }
   ],
   "source": [
    "DTC_GS.best_params_"
   ]
  },
  {
   "cell_type": "code",
   "execution_count": 13,
   "metadata": {
    "id": "U2C4LLnOrft9",
    "pycharm": {
     "name": "#%%\n"
    }
   },
   "outputs": [],
   "source": [
    "RF = RandomForestClassifier(random_state=1,criterion='entropy')\n",
    "params_grid=[{'max_features':['auto','log2',50,100,200,None],'min_samples_leaf':[1,50,100,300],\n",
    "              'max_depth':[3,5,10,15,20,30,40],\n",
    "              'n_estimators':[2,5,10],'bootstrap':[True,False]}]"
   ]
  },
  {
   "cell_type": "code",
   "execution_count": 16,
   "metadata": {
    "id": "0xIfVOLys4W4",
    "pycharm": {
     "name": "#%%\n"
    }
   },
   "outputs": [],
   "source": [
    "RF_GS =GridSearchCV (RF,params_grid,cv = cv,scoring ='accuracy',return_train_score = True\n",
    "                             ,n_jobs=-1)"
   ]
  },
  {
   "cell_type": "code",
   "execution_count": 17,
   "metadata": {
    "colab": {
     "base_uri": "https://localhost:8080/"
    },
    "id": "ORmv6Fi7lz1L",
    "outputId": "a0cea8b5-c554-42fe-c35f-0347991d93e6",
    "pycharm": {
     "name": "#%%\n"
    }
   },
   "outputs": [
    {
     "output_type": "execute_result",
     "data": {
      "text/plain": [
       "GridSearchCV(cv=RepeatedKFold(n_repeats=3, n_splits=5, random_state=1),\n",
       "             estimator=RandomForestClassifier(criterion='entropy',\n",
       "                                              random_state=1),\n",
       "             n_jobs=-1,\n",
       "             param_grid=[{'bootstrap': [True, False],\n",
       "                          'max_depth': [3, 5, 10, 15, 20, 30, 40],\n",
       "                          'max_features': ['auto', 'log2', 50, 100, 200, None],\n",
       "                          'min_samples_leaf': [1, 50, 100, 300],\n",
       "                          'n_estimators': [2, 5, 10]}],\n",
       "             return_train_score=True, scoring='accuracy')"
      ]
     },
     "metadata": {},
     "execution_count": 17
    }
   ],
   "source": [
    "RF_GS.fit(X,y)"
   ]
  },
  {
   "cell_type": "code",
   "execution_count": 18,
   "metadata": {
    "id": "COBT2rFrl3KU",
    "colab": {
     "base_uri": "https://localhost:8080/"
    },
    "outputId": "a7385342-7a02-4ba4-9f09-01a779bcbd08",
    "pycharm": {
     "name": "#%%\n"
    }
   },
   "outputs": [
    {
     "output_type": "execute_result",
     "data": {
      "text/plain": [
       "{'bootstrap': False,\n",
       " 'max_depth': 30,\n",
       " 'max_features': 'auto',\n",
       " 'min_samples_leaf': 1,\n",
       " 'n_estimators': 10}"
      ]
     },
     "metadata": {},
     "execution_count": 18
    }
   ],
   "source": [
    "RF_GS.best_params_"
   ]
  },
  {
   "cell_type": "code",
   "execution_count": 114,
   "metadata": {
    "id": "94kW9v4-l5N_",
    "pycharm": {
     "name": "#%%\n"
    }
   },
   "outputs": [],
   "source": [
    "best_svm = SVC( C = 100000)"
   ]
  },
  {
   "cell_type": "code",
   "source": [
    "best_svm.fit(X_std,y)"
   ],
   "metadata": {
    "colab": {
     "base_uri": "https://localhost:8080/"
    },
    "id": "ZrLhdaImSkU5",
    "outputId": "d06febfe-71ee-4237-b8c8-2fae25a76037",
    "pycharm": {
     "name": "#%%\n"
    }
   },
   "execution_count": 115,
   "outputs": [
    {
     "output_type": "execute_result",
     "data": {
      "text/plain": [
       "SVC(C=100000)"
      ]
     },
     "metadata": {},
     "execution_count": 115
    }
   ]
  },
  {
   "cell_type": "code",
   "source": [
    "X_test = test[:,:-1]\n",
    "y_test = test[:,-1]"
   ],
   "metadata": {
    "id": "yW9SGVTaSrl0",
    "pycharm": {
     "name": "#%%\n"
    }
   },
   "execution_count": 38,
   "outputs": []
  },
  {
   "cell_type": "code",
   "source": [
    "X_test.shape"
   ],
   "metadata": {
    "colab": {
     "base_uri": "https://localhost:8080/"
    },
    "id": "00kmoES6TaRt",
    "outputId": "6ea6f884-e026-4a2f-cf89-e9988cdd90d6",
    "pycharm": {
     "name": "#%%\n"
    }
   },
   "execution_count": 39,
   "outputs": [
    {
     "output_type": "execute_result",
     "data": {
      "text/plain": [
       "(448, 533)"
      ]
     },
     "metadata": {},
     "execution_count": 39
    }
   ]
  },
  {
   "cell_type": "code",
   "source": [
    "y_test.shape"
   ],
   "metadata": {
    "colab": {
     "base_uri": "https://localhost:8080/"
    },
    "id": "ew7bqvKBTbey",
    "outputId": "ace22de3-da28-4df8-ee62-c404561e4bde",
    "pycharm": {
     "name": "#%%\n"
    }
   },
   "execution_count": 40,
   "outputs": [
    {
     "output_type": "execute_result",
     "data": {
      "text/plain": [
       "(448,)"
      ]
     },
     "metadata": {},
     "execution_count": 40
    }
   ]
  },
  {
   "cell_type": "code",
   "source": [
    "X_test_std = std_scale.transform(X_test)"
   ],
   "metadata": {
    "id": "PgoOK7VBTn6e",
    "pycharm": {
     "name": "#%%\n"
    }
   },
   "execution_count": 41,
   "outputs": []
  },
  {
   "cell_type": "code",
   "source": [
    "y_predicted = best_svm.predict(X_test_std)"
   ],
   "metadata": {
    "id": "rsPXOrv5Tcyf",
    "pycharm": {
     "name": "#%%\n"
    }
   },
   "execution_count": 116,
   "outputs": []
  },
  {
   "cell_type": "code",
   "source": [
    "precision_score(y_test, y_predicted,average = 'weighted')"
   ],
   "metadata": {
    "colab": {
     "base_uri": "https://localhost:8080/"
    },
    "id": "Qf6NbqdCZxkn",
    "outputId": "6b25b2dc-646d-4c18-ec58-a5bed94dd79c",
    "pycharm": {
     "name": "#%%\n"
    }
   },
   "execution_count": 117,
   "outputs": [
    {
     "output_type": "execute_result",
     "data": {
      "text/plain": [
       "0.9374671427979873"
      ]
     },
     "metadata": {},
     "execution_count": 117
    }
   ]
  },
  {
   "cell_type": "code",
   "source": [
    "recall_score(y_test, y_predicted,average = 'weighted')"
   ],
   "metadata": {
    "colab": {
     "base_uri": "https://localhost:8080/"
    },
    "id": "rzuzQ-IYZ_mX",
    "outputId": "8763b9c4-b88c-4803-9c55-0a17711615e3",
    "pycharm": {
     "name": "#%%\n"
    }
   },
   "execution_count": 118,
   "outputs": [
    {
     "output_type": "execute_result",
     "data": {
      "text/plain": [
       "0.9375"
      ]
     },
     "metadata": {},
     "execution_count": 118
    }
   ]
  },
  {
   "cell_type": "code",
   "source": [
    "f1_score(y_test, y_predicted,average = 'weighted')"
   ],
   "metadata": {
    "colab": {
     "base_uri": "https://localhost:8080/"
    },
    "id": "c8N6qhNwZ_vZ",
    "outputId": "5c5a7408-be18-448e-f16c-03df306d4d8e",
    "pycharm": {
     "name": "#%%\n"
    }
   },
   "execution_count": 119,
   "outputs": [
    {
     "output_type": "execute_result",
     "data": {
      "text/plain": [
       "0.9368296194635457"
      ]
     },
     "metadata": {},
     "execution_count": 119
    }
   ]
  },
  {
   "cell_type": "code",
   "source": [
    "print(classification_report(y_test, y_predicted,target_names = ['4','1','3','2']))"
   ],
   "metadata": {
    "colab": {
     "base_uri": "https://localhost:8080/"
    },
    "id": "aviZmgX5Tylv",
    "outputId": "8e04871a-1efd-41c5-8425-705d6e0a6c2d",
    "pycharm": {
     "name": "#%%\n"
    }
   },
   "execution_count": 120,
   "outputs": [
    {
     "output_type": "stream",
     "name": "stdout",
     "text": [
      "              precision    recall  f1-score   support\n",
      "\n",
      "           4       0.97      0.99      0.98       120\n",
      "           1       0.93      0.84      0.88       109\n",
      "           3       0.87      0.90      0.89       104\n",
      "           2       0.97      1.00      0.99       115\n",
      "\n",
      "    accuracy                           0.94       448\n",
      "   macro avg       0.94      0.93      0.93       448\n",
      "weighted avg       0.94      0.94      0.94       448\n",
      "\n"
     ]
    }
   ]
  },
  {
   "cell_type": "code",
   "source": [
    "ConfusionMatrixDisplay.from_predictions( y_test,y_predicted)\n",
    "plt.title(\"SVM\")\n",
    "plt.show()"
   ],
   "metadata": {
    "colab": {
     "base_uri": "https://localhost:8080/",
     "height": 295
    },
    "id": "xDC5p9uAVWyO",
    "outputId": "864e722c-a768-4ede-d770-6c691fe008cb",
    "pycharm": {
     "name": "#%%\n"
    }
   },
   "execution_count": 121,
   "outputs": [
    {
     "output_type": "display_data",
     "data": {
      "text/plain": [
       "<Figure size 432x288 with 2 Axes>"
      ],
      "image/png": "[encoded data removed]"
     },
     "metadata": {
      "needs_background": "light"
     }
    }
   ]
  },
  {
   "cell_type": "code",
   "source": [
    "best_DT = DecisionTreeClassifier(random_state=1,criterion='entropy',max_depth = 30 , max_features = 100 , min_samples_leaf=1)"
   ],
   "metadata": {
    "id": "OTIZktjzUulr",
    "pycharm": {
     "name": "#%%\n"
    }
   },
   "execution_count": 49,
   "outputs": []
  },
  {
   "cell_type": "code",
   "source": [
    "best_DT.fit(X,y)"
   ],
   "metadata": {
    "colab": {
     "base_uri": "https://localhost:8080/"
    },
    "id": "WrDFHNkwVUWm",
    "outputId": "adac5855-745e-48bc-b0f6-34a1adc4f019",
    "pycharm": {
     "name": "#%%\n"
    }
   },
   "execution_count": 52,
   "outputs": [
    {
     "output_type": "execute_result",
     "data": {
      "text/plain": [
       "DecisionTreeClassifier(criterion='entropy', max_depth=30, max_features=100,\n",
       "                       random_state=1)"
      ]
     },
     "metadata": {},
     "execution_count": 52
    }
   ]
  },
  {
   "cell_type": "code",
   "source": [
    "DT_pred = best_DT.predict(X_test)"
   ],
   "metadata": {
    "id": "mfNihcPpVoOa",
    "pycharm": {
     "name": "#%%\n"
    }
   },
   "execution_count": 53,
   "outputs": []
  },
  {
   "cell_type": "code",
   "source": [
    "print(precision_score(y_test,DT_pred,average = 'weighted')\n",
    ",recall_score(y_test, DT_pred,average = 'weighted')\n",
    ",f1_score(y_test, DT_pred,average = 'weighted'))"
   ],
   "metadata": {
    "colab": {
     "base_uri": "https://localhost:8080/"
    },
    "id": "a58dEKgfaM7X",
    "outputId": "864ddf5a-87fc-4027-e6e0-8d04c57b2298",
    "pycharm": {
     "name": "#%%\n"
    }
   },
   "execution_count": 76,
   "outputs": [
    {
     "output_type": "stream",
     "name": "stdout",
     "text": [
      "0.9576053102037649 0.9575892857142857 0.9575209309516636\n"
     ]
    }
   ]
  },
  {
   "cell_type": "code",
   "source": [
    "print(classification_report(y_test, DT_pred,target_names = ['4','1','3','2']))"
   ],
   "metadata": {
    "colab": {
     "base_uri": "https://localhost:8080/"
    },
    "id": "PV4Bsf-8VvXc",
    "outputId": "13025d83-dada-4be4-dd23-b9a0e31fd45a",
    "pycharm": {
     "name": "#%%\n"
    }
   },
   "execution_count": 54,
   "outputs": [
    {
     "output_type": "stream",
     "name": "stdout",
     "text": [
      "              precision    recall  f1-score   support\n",
      "\n",
      "           4       0.98      0.97      0.97       120\n",
      "           1       0.93      0.94      0.94       109\n",
      "           3       0.93      0.91      0.92       104\n",
      "           2       0.98      1.00      0.99       115\n",
      "\n",
      "    accuracy                           0.96       448\n",
      "   macro avg       0.96      0.96      0.96       448\n",
      "weighted avg       0.96      0.96      0.96       448\n",
      "\n"
     ]
    }
   ]
  },
  {
   "cell_type": "code",
   "source": [
    "ConfusionMatrixDisplay.from_predictions(y_test,DT_pred)\n",
    "plt.title(\"Decision Tree\")\n",
    "plt.show()"
   ],
   "metadata": {
    "colab": {
     "base_uri": "https://localhost:8080/",
     "height": 295
    },
    "id": "NQOYOHqSV1-h",
    "outputId": "31f4a1ed-99b3-4107-b08a-8280a74b462b",
    "pycharm": {
     "name": "#%%\n"
    }
   },
   "execution_count": 62,
   "outputs": [
    {
     "output_type": "display_data",
     "data": {
      "text/plain": [
       "<Figure size 432x288 with 2 Axes>"
      ],
      "image/png": "[encoded data removed]"
     },
     "metadata": {
      "needs_background": "light"
     }
    }
   ]
  },
  {
   "cell_type": "code",
   "source": [
    "best_Random_forest= RandomForestClassifier(random_state=1,criterion='entropy'\n",
    "                  ,max_depth = 30 , max_features='auto' , n_estimators=10,min_samples_leaf=1,bootstrap = False)"
   ],
   "metadata": {
    "id": "xjwwWKPzV77x",
    "pycharm": {
     "name": "#%%\n"
    }
   },
   "execution_count": 56,
   "outputs": []
  },
  {
   "cell_type": "code",
   "source": [
    "best_Random_forest.fit(X,y)"
   ],
   "metadata": {
    "colab": {
     "base_uri": "https://localhost:8080/"
    },
    "id": "gRAbWoI2Wmtx",
    "outputId": "f9458a67-dd13-45e6-d97c-2ac4835624f1",
    "pycharm": {
     "name": "#%%\n"
    }
   },
   "execution_count": 58,
   "outputs": [
    {
     "output_type": "execute_result",
     "data": {
      "text/plain": [
       "RandomForestClassifier(bootstrap=False, criterion='entropy', max_depth=30,\n",
       "                       n_estimators=10, random_state=1)"
      ]
     },
     "metadata": {},
     "execution_count": 58
    }
   ]
  },
  {
   "cell_type": "code",
   "source": [
    "RF_pred = best_Random_forest.predict ( X_test)"
   ],
   "metadata": {
    "id": "kytglbuiWc_q",
    "pycharm": {
     "name": "#%%\n"
    }
   },
   "execution_count": 59,
   "outputs": []
  },
  {
   "cell_type": "code",
   "source": [
    "print(precision_score(y_test,RF_pred,average = 'weighted')\n",
    ",recall_score(y_test, RF_pred,average = 'weighted')\n",
    ",f1_score(y_test, RF_pred,average = 'weighted'))"
   ],
   "metadata": {
    "colab": {
     "base_uri": "https://localhost:8080/"
    },
    "id": "s4WTldl4aZkG",
    "outputId": "56b89ce0-669a-433c-b0aa-c6b018bfaff1",
    "pycharm": {
     "name": "#%%\n"
    }
   },
   "execution_count": 77,
   "outputs": [
    {
     "output_type": "stream",
     "name": "stdout",
     "text": [
      "0.9933224845542806 0.9933035714285714 0.9933026851300377\n"
     ]
    }
   ]
  },
  {
   "cell_type": "code",
   "source": [
    "print(classification_report(y_test, RF_pred ,target_names = ['4','1','3','2']))"
   ],
   "metadata": {
    "colab": {
     "base_uri": "https://localhost:8080/"
    },
    "id": "eedvZBGxWlYF",
    "outputId": "f5575b17-5817-4df1-e961-494cf564c574",
    "pycharm": {
     "name": "#%%\n"
    }
   },
   "execution_count": 60,
   "outputs": [
    {
     "output_type": "stream",
     "name": "stdout",
     "text": [
      "              precision    recall  f1-score   support\n",
      "\n",
      "           4       1.00      1.00      1.00       120\n",
      "           1       0.98      0.99      0.99       109\n",
      "           3       0.99      0.98      0.99       104\n",
      "           2       1.00      1.00      1.00       115\n",
      "\n",
      "    accuracy                           0.99       448\n",
      "   macro avg       0.99      0.99      0.99       448\n",
      "weighted avg       0.99      0.99      0.99       448\n",
      "\n"
     ]
    }
   ]
  },
  {
   "cell_type": "code",
   "source": [
    "ConfusionMatrixDisplay.from_predictions(y_test,RF_pred )\n",
    "plt.title(\"Random forest\")\n",
    "plt.show()"
   ],
   "metadata": {
    "colab": {
     "base_uri": "https://localhost:8080/",
     "height": 295
    },
    "id": "DCnEKjaRWxR_",
    "outputId": "2bc4df90-d9e8-4838-8b79-9d5100b5027a",
    "pycharm": {
     "name": "#%%\n"
    }
   },
   "execution_count": 112,
   "outputs": [
    {
     "output_type": "display_data",
     "data": {
      "text/plain": [
       "<Figure size 432x288 with 2 Axes>"
      ],
      "image/png": "[encoded data removed]"
     },
     "metadata": {
      "needs_background": "light"
     }
    }
   ]
  },
  {
   "cell_type": "code",
   "source": [
    "XGB = XGBClassifier(use_label_encoder=False,max_depth=30,n_estimators=10)"
   ],
   "metadata": {
    "id": "xQeDa41zXFxy",
    "pycharm": {
     "name": "#%%\n"
    }
   },
   "execution_count": 128,
   "outputs": []
  },
  {
   "cell_type": "code",
   "source": [
    "XGB.fit(X,y)"
   ],
   "metadata": {
    "colab": {
     "base_uri": "https://localhost:8080/"
    },
    "id": "SalMN94SZJ2o",
    "outputId": "1bec85f4-83a9-48bc-c67a-52de8701b427",
    "pycharm": {
     "name": "#%%\n"
    }
   },
   "execution_count": 129,
   "outputs": [
    {
     "output_type": "execute_result",
     "data": {
      "text/plain": [
       "XGBClassifier(max_depth=30, n_estimators=10, objective='multi:softprob',\n",
       "              use_label_encoder=False)"
      ]
     },
     "metadata": {},
     "execution_count": 129
    }
   ]
  },
  {
   "cell_type": "code",
   "source": [
    "XGBpred = XGB.predict(X_test)"
   ],
   "metadata": {
    "id": "udhDANcCZPPc",
    "pycharm": {
     "name": "#%%\n"
    }
   },
   "execution_count": 130,
   "outputs": []
  },
  {
   "cell_type": "code",
   "source": [
    "print(classification_report(y_test, XGBpred,target_names = ['4','1','3','2']))"
   ],
   "metadata": {
    "colab": {
     "base_uri": "https://localhost:8080/"
    },
    "id": "H_7qShrKZeye",
    "outputId": "d9c52cac-c9a4-464e-c120-4240dcfe1b40",
    "pycharm": {
     "name": "#%%\n"
    }
   },
   "execution_count": 131,
   "outputs": [
    {
     "output_type": "stream",
     "name": "stdout",
     "text": [
      "              precision    recall  f1-score   support\n",
      "\n",
      "           4       1.00      0.99      1.00       120\n",
      "           1       0.96      0.98      0.97       109\n",
      "           3       0.98      0.96      0.97       104\n",
      "           2       0.99      1.00      1.00       115\n",
      "\n",
      "    accuracy                           0.98       448\n",
      "   macro avg       0.98      0.98      0.98       448\n",
      "weighted avg       0.98      0.98      0.98       448\n",
      "\n"
     ]
    }
   ]
  },
  {
   "cell_type": "code",
   "source": [
    "ConfusionMatrixDisplay.from_predictions(y_test,XGBpred)\n",
    "plt.title(\"XGBOOST\")\n",
    "plt.show()"
   ],
   "metadata": {
    "colab": {
     "base_uri": "https://localhost:8080/",
     "height": 295
    },
    "id": "ZvzGodYSZlQX",
    "outputId": "b12fe052-bbcd-4298-c6e5-5ae4fa9b5a2b",
    "pycharm": {
     "name": "#%%\n"
    }
   },
   "execution_count": 132,
   "outputs": [
    {
     "output_type": "display_data",
     "data": {
      "text/plain": [
       "<Figure size 432x288 with 2 Axes>"
      ],
      "image/png": "[encoded data removed]"
     },
     "metadata": {
      "needs_background": "light"
     }
    }
   ]
  },
  {
   "cell_type": "code",
   "source": [
    "print(precision_score(y_test,XGBpred,average = 'weighted')\n",
    ",recall_score(y_test, XGBpred,average = 'weighted')\n",
    ",f1_score(y_test, XGBpred,average = 'weighted'))"
   ],
   "metadata": {
    "colab": {
     "base_uri": "https://localhost:8080/"
    },
    "id": "YosVSlZUZpd9",
    "outputId": "d2464061-0bd5-45a9-9f26-28aa788e6666",
    "pycharm": {
     "name": "#%%\n"
    }
   },
   "execution_count": 127,
   "outputs": [
    {
     "output_type": "stream",
     "name": "stdout",
     "text": [
      "0.9696460448076828 0.96875 0.9688344826869019\n"
     ]
    }
   ]
  },
  {
   "cell_type": "code",
   "source": [],
   "metadata": {
    "id": "IW6b16DTaiua",
    "pycharm": {
     "name": "#%%\n"
    }
   },
   "execution_count": null,
   "outputs": []
  }
 ],
 "metadata": {
  "colab": {
   "provenance": []
  },
  "kernelspec": {
   "display_name": "Python 3",
   "name": "python3"
  },
  "language_info": {
   "name": "python"
  }
 },
 "nbformat": 4,
 "nbformat_minor": 0
}